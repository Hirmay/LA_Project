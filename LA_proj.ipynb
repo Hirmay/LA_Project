{
 "cells": [
  {
   "cell_type": "code",
   "execution_count": 1,
   "metadata": {},
   "outputs": [
    {
     "name": "stdout",
     "output_type": "stream",
     "text": [
      "pygame 1.9.6\n",
      "Hello from the pygame community. https://www.pygame.org/contribute.html\n"
     ]
    }
   ],
   "source": [
    "# Importing different things needed for displaying objects or making the systeam wait or for clearing the \n",
    "# output\n",
    "from IPython.display import clear_output\n",
    "import time\n",
    "import pygame\n",
    "from sys import exit\n",
    "import OpenGL\n",
    "from pygame.locals import *\n",
    "from OpenGL.GL import *\n",
    "from OpenGL.GLU import *"
   ]
  },
  {
   "cell_type": "code",
   "execution_count": 2,
   "metadata": {},
   "outputs": [],
   "source": [
    "def gui():\n",
    "    intro_para = \"\"\"Welcome to our project of simulation of movement 2D and 3D objects with the help of Homogenous coordinates,\n",
    "Enter what is the dim of objects you want, 2 for (2D) or 3 for (3D), else enter 0 to exit the program - \"\"\"\n",
    "    object_dim = input(intro_para)\n",
    "    clear_output()\n",
    "    object_type = object_choice(object_dim)\n",
    "    clear_output()\n",
    "    obj_operation = object_operations(object_dim, object_type)"
   ]
  },
  {
   "cell_type": "code",
   "execution_count": 3,
   "metadata": {},
   "outputs": [],
   "source": [
    "def exit_program():\n",
    "    exit(\"We hope you liked our program and we wish to see you soon. Have a nice day!\")"
   ]
  },
  {
   "cell_type": "code",
   "execution_count": 4,
   "metadata": {},
   "outputs": [],
   "source": [
    "def object_choice(object_dim):\n",
    "    # Giving different choices of 2D object for the user to play with\n",
    "    if (object_dim == \"2\"):\n",
    "        para_2d = \"\"\"Select the 2D object you want to play with-\n",
    "        0. To go back to gui\n",
    "        1. Square\n",
    "        2. Circle\n",
    "        3. Eclipse\"\"\"\n",
    "        print(para_2d)\n",
    "        object_2d = int(input(\"Press 0, 1, 2 or 3 depending on what you want to do next- \"))\n",
    "        if(object_2d == 0):\n",
    "            clear_output()\n",
    "            gui()   \n",
    "        return object_2d\n",
    "    # Giving different choices of 3D object for the user to play with\n",
    "    if (object_dim == \"3\"):\n",
    "        para_3d = \"\"\"Select the 2D object you want to play with-\n",
    "        0. To go back to gui\n",
    "        1. Cube\n",
    "        2. Cuboid\n",
    "        3. Cylinder\n",
    "        4. Sphere\"\"\"\n",
    "        print(para_3d)\n",
    "        object_3d = int(input(\"Press 0, 1, 2, 3 or 4 depending on what you want to do next- \"))\n",
    "        if(object_3d == 0):\n",
    "            clear_output()\n",
    "            gui()\n",
    "        return object_3d\n",
    "    if (object_dim == \"0\"):\n",
    "        exit_program()\n",
    "    else:\n",
    "        print(\"Please retry by pressing '2' or '3' only!\")\n",
    "        time.sleep(2)\n",
    "        clear_output()\n",
    "        gui()"
   ]
  },
  {
   "cell_type": "code",
   "execution_count": 5,
   "metadata": {},
   "outputs": [],
   "source": [
    "def object_operations(object_dim, object_type):\n",
    "    if (object_dim == '2'):\n",
    "        objects_2d = [\"Square\", \"Circle\", \"Eclipse\"] \n",
    "        para_opns2D = f\"\"\"Select which operation from the below which you want to play with your {objects_2d[object_type - 1]}\n",
    "        0. To go back to gui\n",
    "        1. Rotate\n",
    "        2. Mirror\n",
    "        3. Translate\"\"\"\n",
    "        print(para_opns2D)\n",
    "        opns_2d = int(input(\"Press 0, 1, 2 or 3 depending on what you want to do next-\")) \n",
    "        if (opns_2d == 0):\n",
    "            clear_output()\n",
    "            gui()\n",
    "        return opns_2d\n",
    "    if (object_dim == '3'):\n",
    "        objects_3d = [\"Cube\", \"Cylinder\", \"Cuboid\", \"Sphere\"] \n",
    "        para_opns3D = f\"\"\"Here you can see that below is the given list of operations that you can perform on your\n",
    "{objects_3d[object_type - 1]} :\n",
    "        0. Enter 0 to go back to gui\n",
    "        1. Else press 1 to start and below are the commands you can do\n",
    "        a. \"Q,E,Z and C\"- Rotate\n",
    "        b. \"M\"- Mirror\n",
    "        c. Translation by 0.5 units in respective directions\n",
    "        \"A\" - Translate left\n",
    "        \"D\" - Translate right\n",
    "        \"W\" - Translate up\n",
    "        \"S\" - Translate Down\n",
    "        \"Mouse Wheel Down\" - Translate Back\n",
    "        \"Mouse Wheel Up\" - Translate Forward\n",
    "        \n",
    "        d. \"O and P\" - Shearing\n",
    "        e. \"UP and down\"- Scaling\n",
    "        f. \"ESCAPE\"- Exit \"\"\"\n",
    "        print(para_opns3D)\n",
    "        opns_3d = int(input(\"Enter 1 to start the program or 0 if you want to go back to gui- \")) \n",
    "        scaling_factor = 101.0\n",
    "        while scaling_factor > 100.0 or scaling_factor <= 0.0:\n",
    "            scaling_factor = float(input(\"Please Enter a Scaling factor between 0 and 100- \"))\n",
    "        if (opns_3d == 0):\n",
    "            clear_output()\n",
    "            gui()\n",
    "        elif (opns_3d == 1):\n",
    "            clear_output()\n",
    "            # Here cube is just a special case of cuboid so it doesn't make sense to make a diff function\n",
    "            # for cube as to user it will make no difference.\n",
    "            cuboid_opns(object_type, objects_3d[object_type - 1], scaling_factor)\n",
    "            "
   ]
  },
  {
   "cell_type": "code",
   "execution_count": 6,
   "metadata": {},
   "outputs": [],
   "source": [
    "def GetVertices(figNo, object_name):\n",
    "    a, b, c = input(f\"Enter one of the vertices of {object_name}:\").split()\n",
    "    a = int(a)\n",
    "    b = int(b)\n",
    "    c = int(c)\n",
    "    clear_output()\n",
    "    if figNo == 2:\n",
    "        L = int(input(f\"Enter length of your {object_name}: \"))\n",
    "        B = int(input(f\"Enter breadth of your {object_name}: \"))\n",
    "        H = int(input(f\"Enter height of your {object_name}: \"))\n",
    "    elif figNo == 1:\n",
    "        L = int(input(f\"Enter length of your {object_name}: \"))\n",
    "        B = H = L\n",
    "    vertices = list()\n",
    "    vertex0 = [a, b, c, 1]\n",
    "    vertex1 = [a, b - B, c, 1]\n",
    "    vertex2 = [a + L, b - B, c, 1]\n",
    "    vertex3 = [a + L, b, c, 1]\n",
    "    vertex4 = [a, b, c - H, 1]\n",
    "    vertex5 = [a, b - B, c - H, 1]\n",
    "    vertex6 = [a + L, b, c - H, 1]\n",
    "    vertex7 = [a + L, b - B, c - H, 1]\n",
    "    vertices = [vertex0, vertex1, vertex2, vertex3, vertex4, vertex5, vertex6, vertex7]\n",
    "    return vertices\n",
    "\n"
   ]
  },
  {
   "cell_type": "code",
   "execution_count": 7,
   "metadata": {},
   "outputs": [],
   "source": [
    "# Rendering the cube\n",
    "def Cuboid(edges, vertices):\n",
    "    glBegin(GL_LINES)\n",
    "    for edge in edges:\n",
    "        for vertex in edge:\n",
    "            glVertex4fv(vertices[vertex])\n",
    "    glEnd()"
   ]
  },
  {
   "cell_type": "code",
   "execution_count": 8,
   "metadata": {},
   "outputs": [],
   "source": [
    "def MultiplyMatrixCol(X,Y):\n",
    "    result = list()\n",
    "    for row in X:\n",
    "        sum = 0\n",
    "        for i in range(len(Y)):\n",
    "            sum += row[i]*Y[i]\n",
    "        result.append(sum)\n",
    "    return result"
   ]
  },
  {
   "cell_type": "code",
   "execution_count": 9,
   "metadata": {},
   "outputs": [],
   "source": [
    "def Scale(sx = 1.0, sy = 1.0, sz = 1.0, vertices=[0.0,0.0,0.0,0.0]*8):\n",
    "    scaling_matrix = [\n",
    "        [sx,0,0,0],\n",
    "        [0,sy,0,0],\n",
    "        [0,0,sz,0],\n",
    "        [0,0,0,1]\n",
    "    ]\n",
    "    for i in range(len(vertices)):\n",
    "        vertices[i] = MultiplyMatrixCol(scaling_matrix,vertices[i])"
   ]
  },
  {
   "cell_type": "code",
   "execution_count": 10,
   "metadata": {},
   "outputs": [],
   "source": [
    "def Translate (tx = 0.0, ty = 0.0, tz = 0.0, vertices=[0.0,0.0,0.0,0.0]*8):\n",
    "    translation_matrix = [\n",
    "        [1,0,0,tx],\n",
    "        [0,1,0,ty],\n",
    "        [0,0,1,tz],\n",
    "        [0,0,0,1]\n",
    "    ]\n",
    "    for i in range(len(vertices)):\n",
    "        vertices[i] = MultiplyMatrixCol(translation_matrix,vertices[i])"
   ]
  },
  {
   "cell_type": "code",
   "execution_count": 11,
   "metadata": {},
   "outputs": [],
   "source": [
    "def cuboid_opns(figNo, object_name, scaling_factor):\n",
    "    vertices = GetVertices(figNo, object_name)\n",
    "\n",
    "    edges = [\n",
    "        [0,1],\n",
    "        [0,3],\n",
    "        [0,4],\n",
    "        [2,1],\n",
    "        [2,3],\n",
    "        [2,7],\n",
    "        [6,3],\n",
    "        [6,4],\n",
    "        [6,7],\n",
    "        [5,1],\n",
    "        [5,4],\n",
    "        [5,7]\n",
    "        ]\n",
    "    pygame.init()\n",
    "    display = (800,600)\n",
    "    pygame.display.set_mode(display, DOUBLEBUF|OPENGL)\n",
    "\n",
    "    gluPerspective(45, (display[0]/display[1]), 0.1, 50.0)\n",
    "\n",
    "    Translate(0.0,0.0, -5, vertices)\n",
    "\n",
    "    while True:\n",
    "        for event in pygame.event.get():\n",
    "            # Exiting the program directly\n",
    "            if event.type == pygame.QUIT:\n",
    "                pygame.quit()\n",
    "                quit()\n",
    "\n",
    "            # Mouse based Translation operations\n",
    "            if event.type == pygame.MOUSEBUTTONDOWN:\n",
    "                if event.button == 4:\n",
    "                    #glTranslatef(0,0,1.0)\n",
    "                    Translate(0.0,0.0,0.5,vertices)\n",
    "                    #print(vertices)\n",
    "\n",
    "                if event.button == 5:\n",
    "                    #glTranslatef(0,0,-1.0)\n",
    "                    Translate(0.0,0.0,-0.5,vertices)\n",
    "                    #print(vertices)\n",
    "            if event.type == pygame.KEYDOWN:\n",
    "                # Key based Translation operations\n",
    "                if event.key in [pygame.K_a, pygame.K_d, pygame.K_w, pygame.K_s]:\n",
    "                    if event.key == pygame.K_a:\n",
    "                        #glTranslatef(-1.0,0,0)                \n",
    "                        Translate(-0.5,0.0,0.0,vertices)\n",
    "                        #print(vertices)\n",
    "\n",
    "                    if event.key == pygame.K_d:\n",
    "                        #glTranslatef(1.0,0,0)\n",
    "                        Translate(0.5,0.0,0.0,vertices)\n",
    "                        #print(vertices)\n",
    "\n",
    "                    if event.key == pygame.K_w:\n",
    "                        #glTranslatef(0,1,0)\n",
    "                        Translate(0.0,0.5,0.0,vertices)\n",
    "                        #print(vertices)\n",
    "\n",
    "                    if event.key == pygame.K_s:\n",
    "                        #glTranslatef(0,-1,0)\n",
    "                        Translate(0.0,-0.5,0.0,vertices)\n",
    "                        #print(vertices)\n",
    "                \n",
    "                # Scaling operations\n",
    "                if event.key in [pygame.K_z, pygame.K_x, pygame.K_y]:\n",
    "                    # Scaling in different directions by given scaling factor provided by the user\n",
    "                    if event.key == pygame.K_x:           \n",
    "                        Scale(scaling_factor,1.0,1.0,vertices)\n",
    "\n",
    "                    if event.key == pygame.K_y:\n",
    "                        Scale(1.0,scaling_factor,1.0,vertices)\n",
    "\n",
    "                    if event.key == pygame.K_z:\n",
    "                        Scale(1.0,1.0,scaling_factor,vertices)\n",
    "                    \n",
    "                # For quiting the program\n",
    "                if event.key == pygame.K_ESCAPE:\n",
    "                    pygame.quit()\n",
    "                    quit()\n",
    "                    exit_program()\n",
    "\n",
    "\n",
    "        #glTranslatef(1.0, 0.0, 0.0)\n",
    "        #used for clearing output on the screen\n",
    "        glClear(GL_COLOR_BUFFER_BIT|GL_DEPTH_BUFFER_BIT)\n",
    "        #Forms a cuboid\n",
    "        Cuboid(edges, vertices)\n",
    "        #Displays cuboid on the screen\n",
    "        pygame.display.flip()"
   ]
  },
  {
   "cell_type": "code",
   "execution_count": 12,
   "metadata": {},
   "outputs": [
    {
     "name": "stdout",
     "output_type": "stream",
     "text": [
      "Enter length of your Cube: 2\n"
     ]
    },
    {
     "ename": "SystemExit",
     "evalue": "We hope you liked our program and we wish to see you soon. Have a nice day!",
     "output_type": "error",
     "traceback": [
      "An exception has occurred, use %tb to see the full traceback.\n",
      "\u001b[1;31mSystemExit\u001b[0m\u001b[1;31m:\u001b[0m We hope you liked our program and we wish to see you soon. Have a nice day!\n"
     ]
    },
    {
     "name": "stderr",
     "output_type": "stream",
     "text": [
      "C:\\Users\\Admin_2020\\anaconda3\\lib\\site-packages\\IPython\\core\\interactiveshell.py:3339: UserWarning: To exit: use 'exit', 'quit', or Ctrl-D.\n",
      "  warn(\"To exit: use 'exit', 'quit', or Ctrl-D.\", stacklevel=1)\n"
     ]
    }
   ],
   "source": [
    "gui()"
   ]
  },
  {
   "cell_type": "markdown",
   "metadata": {},
   "source": [
    "## "
   ]
  }
 ],
 "metadata": {
  "kernelspec": {
   "display_name": "Python 3",
   "language": "python",
   "name": "python3"
  },
  "language_info": {
   "codemirror_mode": {
    "name": "ipython",
    "version": 3
   },
   "file_extension": ".py",
   "mimetype": "text/x-python",
   "name": "python",
   "nbconvert_exporter": "python",
   "pygments_lexer": "ipython3",
   "version": "3.7.6"
  }
 },
 "nbformat": 4,
 "nbformat_minor": 4
}
